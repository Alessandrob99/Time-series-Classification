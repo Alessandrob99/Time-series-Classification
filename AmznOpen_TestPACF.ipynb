{
 "cells": [
  {
   "cell_type": "code",
   "execution_count": 1,
   "metadata": {},
   "outputs": [
    {
     "ename": "KeyboardInterrupt",
     "evalue": "",
     "output_type": "error",
     "traceback": [
      "\u001b[1;31m---------------------------------------------------------------------------\u001b[0m",
      "\u001b[1;31mKeyboardInterrupt\u001b[0m                         Traceback (most recent call last)",
      "File \u001b[1;32m<__array_function__ internals>:177\u001b[0m, in \u001b[0;36msum\u001b[1;34m(*args, **kwargs)\u001b[0m\n",
      "\u001b[1;31mKeyboardInterrupt\u001b[0m: "
     ]
    },
    {
     "name": "stderr",
     "output_type": "stream",
     "text": [
      "Exception ignored in: 'statsmodels.nonparametric._smoothers_lowess.calculate_weights'\n",
      "Traceback (most recent call last):\n",
      "  File \"<__array_function__ internals>\", line 177, in sum\n",
      "KeyboardInterrupt: \n"
     ]
    },
    {
     "name": "stdout",
     "output_type": "stream",
     "text": [
      "[312.54552646]\n",
      "[371707.54189121]\n"
     ]
    },
    {
     "data": {
      "image/png": "[encoded data removed]",
      "text/plain": [
       "<Figure size 432x288 with 1 Axes>"
      ]
     },
     "metadata": {
      "needs_background": "light"
     },
     "output_type": "display_data"
    }
   ],
   "source": [
    "import numpy as np\n",
    "import pandas as pd\n",
    "from statsmodels.graphics.tsaplots import plot_pacf\n",
    "import matplotlib.pyplot as plt \n",
    "from statsmodels.tsa.stattools import adfuller\n",
    "from statsmodels.tsa.stattools import adfuller\n",
    "import statsmodels.api as sm\n",
    "from sklearn.metrics import mean_absolute_error, mean_squared_error\n",
    "\n",
    "df = pd.read_csv('C:/Users/aless/Desktop/AMZN.csv',header=0)\n",
    "df = df[df.Date.str.split('-',expand=True)[0].isin([\"2021\",\"2022\"])]\n",
    "df['Date'] = pd.to_datetime(df['Date'])\n",
    "df.set_index(\"Date\")\n",
    "\n",
    "#LOWESS\n",
    "lowess = sm.nonparametric.lowess\n",
    "z = lowess(df.Open,np.arange(0,len(df.Open),1),frac=1.)\n",
    "w = np.reshape(z[:,1],len(z[:,1]))\n",
    "\n",
    "\n",
    "SerieSmooth = pd.DataFrame(columns=[\"Date\",\"Open\"])\n",
    "SerieSmooth[\"Date\"] = df.Date\n",
    "SerieSmooth[\"Open\"] = w\n",
    "SerieSmooth.set_index(\"Date\")\n",
    "\n",
    "print(mean_absolute_error(df.Open,SerieSmooth.Open,multioutput='raw_values'))\n",
    "print(mean_squared_error(df.Open,SerieSmooth.Open,multioutput='raw_values'))\n",
    "\n",
    "SerieSmooth[\"Open\"].plot()\n",
    "df[\"Open\"].plot()\n",
    "\n",
    "plt.show()\n",
    "\n",
    "\n"
   ]
  }
 ],
 "metadata": {
  "kernelspec": {
   "display_name": "Python 3.10.2 64-bit",
   "language": "python",
   "name": "python3"
  },
  "language_info": {
   "codemirror_mode": {
    "name": "ipython",
    "version": 3
   },
   "file_extension": ".py",
   "mimetype": "text/x-python",
   "name": "python",
   "nbconvert_exporter": "python",
   "pygments_lexer": "ipython3",
   "version": "3.10.2"
  },
  "orig_nbformat": 4,
  "vscode": {
   "interpreter": {
    "hash": "110a4ad9b3b23ac6a757cfb6c77f1e39e8d0496598f07ec14a944919c025e818"
   }
  }
 },
 "nbformat": 4,
 "nbformat_minor": 2
}
