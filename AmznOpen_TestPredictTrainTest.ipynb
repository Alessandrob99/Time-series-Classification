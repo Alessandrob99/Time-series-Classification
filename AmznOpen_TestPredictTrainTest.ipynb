{
 "cells": [
  {
   "cell_type": "code",
   "execution_count": 4,
   "metadata": {},
   "outputs": [
    {
     "ename": "NotImplementedError",
     "evalue": "\nstatsmodels.tsa.arima_model.ARMA and statsmodels.tsa.arima_model.ARIMA have\nbeen removed in favor of statsmodels.tsa.arima.model.ARIMA (note the .\nbetween arima and model) and statsmodels.tsa.SARIMAX.\n\nstatsmodels.tsa.arima.model.ARIMA makes use of the statespace framework and\nis both well tested and maintained. It also offers alternative specialized\nparameter estimators.\n",
     "output_type": "error",
     "traceback": [
      "\u001b[1;31m---------------------------------------------------------------------------\u001b[0m",
      "\u001b[1;31mNotImplementedError\u001b[0m                       Traceback (most recent call last)",
      "\u001b[1;32mc:\\Users\\aless\\Desktop\\UNIVERSITA\\Data Science\\Progetti\\Time series Classification\\AmznOpen_TestPredictTrainTest.ipynb Cella 1\u001b[0m in \u001b[0;36m<cell line: 26>\u001b[1;34m()\u001b[0m\n\u001b[0;32m     <a href='vscode-notebook-cell:/c%3A/Users/aless/Desktop/UNIVERSITA/Data%20Science/Progetti/Time%20series%20Classification/AmznOpen_TestPredictTrainTest.ipynb#W0sZmlsZQ%3D%3D?line=20'>21</a>\u001b[0m train \u001b[39m=\u001b[39m df\u001b[39m.\u001b[39mOpen[:\u001b[39m85\u001b[39m]\n\u001b[0;32m     <a href='vscode-notebook-cell:/c%3A/Users/aless/Desktop/UNIVERSITA/Data%20Science/Progetti/Time%20series%20Classification/AmznOpen_TestPredictTrainTest.ipynb#W0sZmlsZQ%3D%3D?line=21'>22</a>\u001b[0m test \u001b[39m=\u001b[39m df\u001b[39m.\u001b[39mOpen[\u001b[39m85\u001b[39m:]\n\u001b[1;32m---> <a href='vscode-notebook-cell:/c%3A/Users/aless/Desktop/UNIVERSITA/Data%20Science/Progetti/Time%20series%20Classification/AmznOpen_TestPredictTrainTest.ipynb#W0sZmlsZQ%3D%3D?line=25'>26</a>\u001b[0m model \u001b[39m=\u001b[39m ARIMA(train, order\u001b[39m=\u001b[39;49m(\u001b[39m1\u001b[39;49m,\u001b[39m1\u001b[39;49m,\u001b[39m1\u001b[39;49m))\n\u001b[0;32m     <a href='vscode-notebook-cell:/c%3A/Users/aless/Desktop/UNIVERSITA/Data%20Science/Progetti/Time%20series%20Classification/AmznOpen_TestPredictTrainTest.ipynb#W0sZmlsZQ%3D%3D?line=26'>27</a>\u001b[0m fitted \u001b[39m=\u001b[39m model\u001b[39m.\u001b[39mfit()\n\u001b[0;32m     <a href='vscode-notebook-cell:/c%3A/Users/aless/Desktop/UNIVERSITA/Data%20Science/Progetti/Time%20series%20Classification/AmznOpen_TestPredictTrainTest.ipynb#W0sZmlsZQ%3D%3D?line=28'>29</a>\u001b[0m fc, se, conf \u001b[39m=\u001b[39m fitted\u001b[39m.\u001b[39mforecast(\u001b[39m15\u001b[39m, alpha\u001b[39m=\u001b[39m\u001b[39m0.05\u001b[39m)\n",
      "File \u001b[1;32mc:\\Users\\aless\\AppData\\Local\\Programs\\Python\\Python310\\lib\\site-packages\\statsmodels\\tsa\\arima_model.py:45\u001b[0m, in \u001b[0;36mARIMA.__init__\u001b[1;34m(self, *args, **kwargs)\u001b[0m\n\u001b[0;32m     44\u001b[0m \u001b[39mdef\u001b[39;00m \u001b[39m__init__\u001b[39m(\u001b[39mself\u001b[39m, \u001b[39m*\u001b[39margs, \u001b[39m*\u001b[39m\u001b[39m*\u001b[39mkwargs):\n\u001b[1;32m---> 45\u001b[0m     \u001b[39msuper\u001b[39m()\u001b[39m.\u001b[39m\u001b[39m__init__\u001b[39m(\u001b[39m*\u001b[39margs, \u001b[39m*\u001b[39m\u001b[39m*\u001b[39mkwargs)\n",
      "File \u001b[1;32mc:\\Users\\aless\\AppData\\Local\\Programs\\Python\\Python310\\lib\\site-packages\\statsmodels\\tsa\\arima_model.py:29\u001b[0m, in \u001b[0;36mARMA.__init__\u001b[1;34m(self, *args, **kwargs)\u001b[0m\n\u001b[0;32m     28\u001b[0m \u001b[39mdef\u001b[39;00m \u001b[39m__init__\u001b[39m(\u001b[39mself\u001b[39m, \u001b[39m*\u001b[39margs, \u001b[39m*\u001b[39m\u001b[39m*\u001b[39mkwargs):\n\u001b[1;32m---> 29\u001b[0m     \u001b[39mraise\u001b[39;00m \u001b[39mNotImplementedError\u001b[39;00m(ARIMA_DEPRECATION_ERROR)\n",
      "\u001b[1;31mNotImplementedError\u001b[0m: \nstatsmodels.tsa.arima_model.ARMA and statsmodels.tsa.arima_model.ARIMA have\nbeen removed in favor of statsmodels.tsa.arima.model.ARIMA (note the .\nbetween arima and model) and statsmodels.tsa.SARIMAX.\n\nstatsmodels.tsa.arima.model.ARIMA makes use of the statespace framework and\nis both well tested and maintained. It also offers alternative specialized\nparameter estimators.\n"
     ]
    }
   ],
   "source": [
    "from statsmodels.tsa.arima_model import ARIMA\n",
    "\n",
    "import numpy as np\n",
    "import pandas as pd\n",
    "from statsmodels.graphics.tsaplots import plot_acf, plot_pacf\n",
    "import matplotlib.pyplot as plt \n",
    "from statsmodels.tsa.stattools import adfuller\n",
    "from statsmodels.tsa.stattools import adfuller\n",
    "import statsmodels.api as sm\n",
    "\n",
    "\n",
    "plt.rcParams.update({'figure.figsize':(50,20), 'figure.dpi':240})\n",
    "\n",
    "\n",
    "df = pd.read_csv('C:/Users/aless/Desktop/AMZN.csv',header=0)\n",
    "df = df[df.Date.str.split('-',expand=True)[0].isin([\"2021\",\"2022\"])]\n",
    "\n",
    "df['Date'] = pd.to_datetime(df['Date'])\n",
    "df.set_index('Date',inplace = True)\n",
    "\n",
    "train = df.Open[:85]\n",
    "test = df.Open[85:]\n",
    "\n",
    "\n",
    "\n",
    "model = ARIMA(train, order=(1,1,1))\n",
    "fitted = model.fit()\n",
    "\n",
    "fc, se, conf = fitted.forecast(15, alpha=0.05)\n",
    "\n",
    "fc_series = pd.Series(fc, index = test.Date)\n",
    "lower_series = pd.Series(conf[:,0], index = test.Date)\n",
    "upper_series = pd.Series(conf[:,1], index = test.Date)\n",
    "\n",
    "\n",
    "plt.figure(figsize=(12,5),dpi=100)\n",
    "plt.plot(train,label=\"training\")\n",
    "plt.plot(test,label=\"actual\")\n",
    "plt.plot(fc_series,label=\"forecast\")\n",
    "plt.fill_between(lower_series.index, lower_series, upper_series,color='k',alpha=.15)\n",
    "plt.title(\"Prediction\")\n",
    "plt.legend(loc='upper left',fontsize=8)\n",
    "plt.show()"
   ]
  }
 ],
 "metadata": {
  "kernelspec": {
   "display_name": "Python 3.10.2 64-bit",
   "language": "python",
   "name": "python3"
  },
  "language_info": {
   "codemirror_mode": {
    "name": "ipython",
    "version": 3
   },
   "file_extension": ".py",
   "mimetype": "text/x-python",
   "name": "python",
   "nbconvert_exporter": "python",
   "pygments_lexer": "ipython3",
   "version": "3.10.2"
  },
  "orig_nbformat": 4,
  "vscode": {
   "interpreter": {
    "hash": "110a4ad9b3b23ac6a757cfb6c77f1e39e8d0496598f07ec14a944919c025e818"
   }
  }
 },
 "nbformat": 4,
 "nbformat_minor": 2
}
